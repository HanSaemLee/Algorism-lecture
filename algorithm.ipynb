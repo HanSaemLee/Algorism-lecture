{
 "cells": [
  {
   "cell_type": "markdown",
   "source": [
    "# 선형리스트"
   ],
   "metadata": {}
  },
  {
   "cell_type": "markdown",
   "source": [
    "## 01"
   ],
   "metadata": {}
  },
  {
   "cell_type": "code",
   "execution_count": 9,
   "source": [
    "katok = [] # 빈 배열\r\n",
    "\r\n",
    "def add_data(friend):\r\n",
    "    katok.append(None)\r\n",
    "    kLen = len(katok)\r\n",
    "    katok[kLen-1] = friend"
   ],
   "outputs": [],
   "metadata": {}
  },
  {
   "cell_type": "code",
   "execution_count": 10,
   "source": [
    "add_data('다현')\r\n",
    "add_data('정연')\r\n",
    "add_data('쯔위')\r\n",
    "add_data('사나')\r\n",
    "add_data('지효')\r\n",
    "\r\n",
    "print(katok)"
   ],
   "outputs": [
    {
     "output_type": "stream",
     "name": "stdout",
     "text": [
      "['다현', '정연', '쯔위', '사나', '지효']\n"
     ]
    }
   ],
   "metadata": {}
  },
  {
   "cell_type": "markdown",
   "source": [
    "## 02. 중간 삽입"
   ],
   "metadata": {}
  },
  {
   "cell_type": "code",
   "execution_count": 11,
   "source": [
    "katok = ['다현','정연','쯔위','사나','지효','모모']\r\n",
    "\r\n",
    "def insert_data(position, friend): # 삽입함수\r\n",
    "\r\n",
    "    katok.append(None)\r\n",
    "    kLen = len(katok)\r\n",
    "\r\n",
    "    for i in range(kLen-1, position, -1):\r\n",
    "        katok[i] = katok[i-1]\r\n",
    "        katok[i-1] = None\r\n",
    "        \r\n",
    "    katok[position] = friend"
   ],
   "outputs": [],
   "metadata": {}
  },
  {
   "cell_type": "code",
   "execution_count": 12,
   "source": [
    "insert_data(2, '솔라')\r\n",
    "print(katok)\r\n",
    "insert_data(6, '문별')\r\n",
    "print(katok)"
   ],
   "outputs": [
    {
     "output_type": "stream",
     "name": "stdout",
     "text": [
      "['다현', '정연', '솔라', '쯔위', '사나', '지효', '모모']\n",
      "['다현', '정연', '솔라', '쯔위', '사나', '지효', '문별', '모모']\n"
     ]
    }
   ],
   "metadata": {}
  },
  {
   "cell_type": "markdown",
   "source": [
    "## 03. 중간 데이터 삭제"
   ],
   "metadata": {}
  },
  {
   "cell_type": "code",
   "execution_count": 13,
   "source": [
    "katok = ['다현', '정연', '솔라', '쯔위', '사나', '지효', '문별', '모모']\r\n",
    "\r\n",
    "def delete_data(position) :\r\n",
    "    kLen = len(katok)\r\n",
    "    katok[position] = None\r\n",
    "\r\n",
    "    for i in range(position+1, kLen, 1):\r\n",
    "        katok[i-1] = katok[i]\r\n",
    "        katok[i] = None\r\n",
    "\r\n",
    "    del katok[kLen-1]"
   ],
   "outputs": [],
   "metadata": {}
  },
  {
   "cell_type": "code",
   "execution_count": 14,
   "source": [
    "delete_data(1)\r\n",
    "print(katok)\r\n",
    "delete_data(3)\r\n",
    "print(katok)"
   ],
   "outputs": [
    {
     "output_type": "stream",
     "name": "stdout",
     "text": [
      "['다현', '솔라', '쯔위', '사나', '지효', '문별', '모모']\n",
      "['다현', '솔라', '쯔위', '지효', '문별', '모모']\n"
     ]
    }
   ],
   "metadata": {}
  },
  {
   "cell_type": "markdown",
   "source": [
    "## 04. 선형리스트의 일반 구현"
   ],
   "metadata": {}
  },
  {
   "cell_type": "code",
   "execution_count": null,
   "source": [
    "## 함수 선언부\r\n",
    "def add_data(friend):\r\n",
    "    katok.append(None)\r\n",
    "    kLen = len(katok)\r\n",
    "    katok[kLen-1] = friend\r\n",
    "\r\n",
    "def insert_data(position, friend):\r\n",
    "    katok.append(None)\r\n",
    "    kLen = len(katok)\r\n",
    "\r\n",
    "    for i in range(kLen-1, position, -1):\r\n",
    "        katok[i] = katok[i-1]\r\n",
    "        katok[i-1] = None\r\n",
    "    \r\n",
    "    katok[position] = friend\r\n",
    "\r\n",
    "def delete_data(position):\r\n",
    "    katok[position] = None\r\n",
    "    kLen = len(katok)\r\n",
    "\r\n",
    "    for i in range(position+1, kLen):\r\n",
    "        katok[i-1] = katok[i]\r\n",
    "        katok[i] = None\r\n",
    "    \r\n",
    "    del katok[kLen-1]\r\n",
    "    \r\n",
    "\r\n",
    "\r\n",
    "\r\n",
    "## 전역 변수부\r\n",
    "katok = []\r\n",
    "select = -1         # 1추가 2삽입 3삭제 4종료\r\n",
    "\r\n",
    "\r\n",
    "\r\n",
    "\r\n",
    "## 메인 코드부\r\n",
    "while(select != 4):\r\n",
    "    select = int(input(\" 1추가 2삽입 3삭제 4종료-->\"))\r\n",
    "\r\n",
    "    if (select == 1):\r\n",
    "        name = input('추가할 이름을 입력>')\r\n",
    "        add_data(name)\r\n",
    "        print(katok)\r\n",
    "    elif (select ==2):\r\n",
    "        pos = int(input('삽입할 위치를 입력>'))\r\n",
    "        name = input('이름을 입력>')\r\n",
    "        insert_data(pos, name)\r\n",
    "        print(katok)\r\n",
    "    elif (select ==3):\r\n",
    "        pos = int(input('삭제할 위치를 입력>'))\r\n",
    "        delete_data(pos)\r\n",
    "        print(katok)\r\n",
    "    elif (select ==4):\r\n",
    "        print(katok)\r\n",
    "        exit\r\n",
    "    else:\r\n",
    "        print('다시 확인!')\r\n",
    "        continue"
   ],
   "outputs": [],
   "metadata": {}
  },
  {
   "cell_type": "markdown",
   "source": [
    "# 연결리스트"
   ],
   "metadata": {}
  },
  {
   "cell_type": "markdown",
   "source": [
    "## 단순 연결리스트"
   ],
   "metadata": {}
  },
  {
   "cell_type": "code",
   "execution_count": 21,
   "source": [
    "class Node():\r\n",
    "    def __init__(self):\r\n",
    "        self.data = None\r\n",
    "        self.link = None\r\n",
    "\r\n",
    "node1 = Node()\r\n",
    "node1.data = '다현'\r\n",
    "\r\n",
    "node2 = Node()\r\n",
    "node2.data = '정연'\r\n",
    "node1.link = node2\r\n",
    "\r\n",
    "node3 = Node()\r\n",
    "node3.data = '쯔위'\r\n",
    "node2.link = node3\r\n",
    "\r\n",
    "node4 = Node()\r\n",
    "node4.data = '사나'\r\n",
    "node3.link = node4\r\n",
    "\r\n",
    "node5 = Node()\r\n",
    "node5.data = '지효'\r\n",
    "node4.link = node5\r\n",
    "node5.link = None\r\n",
    "\r\n",
    "# 컨트롤 + 슬래쉬하면 된다\r\n",
    "\r\n",
    "# 이렇게 쓸 수 없으므로 알고리즘이 필요\r\n",
    "# print(node1.data, end=' ')\r\n",
    "# print(node1.link.data, end=' ')\r\n",
    "# print(node1.link.link.data, end=' ')\r\n",
    "# print(node1.link.link.link.data, end=' ')\r\n",
    "# print(node1.link.link.link.link.data, end=' ')\r\n",
    "\r\n",
    "\r\n",
    "# 연결리스트의 핵심\r\n",
    "current = node1\r\n",
    "print(current.data, end=' ')\r\n",
    "while (current.link != None):\r\n",
    "    current = current.link\r\n",
    "    print(current.data, end=' ')\r\n"
   ],
   "outputs": [
    {
     "output_type": "stream",
     "name": "stdout",
     "text": [
      "다현 정연 쯔위 사나 지효 "
     ]
    }
   ],
   "metadata": {}
  },
  {
   "cell_type": "markdown",
   "source": [
    "## 단순 연결리스트의 일반 형태"
   ],
   "metadata": {}
  },
  {
   "cell_type": "code",
   "execution_count": 24,
   "source": [
    "## 함수 선언부\r\n",
    "class Node():\r\n",
    "    def __init__(self):\r\n",
    "        self.data = None\r\n",
    "        self.link = None\r\n",
    "\r\n",
    "def printNodes(start):\r\n",
    "    current = start\r\n",
    "    print(current.data, end=' ')\r\n",
    "    while (current.link != None):\r\n",
    "        current = current.link\r\n",
    "        print(current.data, end=' ')\r\n",
    "\r\n",
    "\r\n",
    "## 전역 변수부\r\n",
    "memory = [] # 노드를 저장할 공간\r\n",
    "head, current, pre = None, None, None\r\n",
    "dataArray = ['다현', '정연', '쯔위', '사나', '지효']\r\n",
    "\r\n",
    "\r\n",
    "## 메인 코드부\r\n",
    "\r\n",
    "node = Node()       # 첫번쨰 노드\r\n",
    "node.data = dataArray[0]\r\n",
    "head = node\r\n",
    "memory.append(node)\r\n",
    "\r\n",
    "for data in dataArray[1:]:  # ['정연', '쯔위', '사나', '지효']\r\n",
    "    pre = node          # pre는 이전 노드링크에 현재 노드 주솟값을 저장하기 위해 필요\r\n",
    "    node = Node()       # 현재 노드 생성\r\n",
    "    node.data = data\r\n",
    "    pre.link = node\r\n",
    "    memory.append(node)\r\n",
    "printNodes(head)"
   ],
   "outputs": [
    {
     "output_type": "stream",
     "name": "stdout",
     "text": [
      "다현 정연 쯔위 사나 지효 "
     ]
    }
   ],
   "metadata": {}
  },
  {
   "cell_type": "markdown",
   "source": [
    "## 단순 연결리스트 추가, 삽입"
   ],
   "metadata": {}
  },
  {
   "cell_type": "code",
   "execution_count": 31,
   "source": [
    "## 함수 선언부\r\n",
    "class Node():\r\n",
    "    def __init__(self):\r\n",
    "        self.data = None\r\n",
    "        self.link = None\r\n",
    "\r\n",
    "def printNodes(start):\r\n",
    "    current = start\r\n",
    "    print(current.data, end=' ')\r\n",
    "    while (current.link != None):\r\n",
    "        current = current.link\r\n",
    "        print(current.data, end=' ')\r\n",
    "\r\n",
    "def insertNode(findData, insertData):\r\n",
    "    global memory, head, current, pre\r\n",
    "    if head.data == findData:       # 첫노드 앞에 삽입\r\n",
    "        node = Node()\r\n",
    "        node.data = insertData\r\n",
    "        node.link = head\r\n",
    "        head = node\r\n",
    "        memory.append(node)\r\n",
    "        return\r\n",
    "    current = head\r\n",
    "    while current.link != Node:\r\n",
    "        pre = current           # pre는 이전의 노드의 링크 값을 알기 위해 필요 (현재 노드의 주소)\r\n",
    "        current = current.link\r\n",
    "        if current.data == findData:\r\n",
    "            node = Node()\r\n",
    "            node.data = insertData\r\n",
    "            node.link = current\r\n",
    "            pre.link = node\r\n",
    "            memory.append(node)\r\n",
    "            return\r\n",
    "    node = Node()       # 마지막 노드에 삽입\r\n",
    "    node.data = insertData\r\n",
    "    current.link = node\r\n",
    "    return\r\n",
    "\r\n",
    "def findNode(findData):\r\n",
    "    global memory, head, current, pre\r\n",
    "    pass\r\n",
    "\r\n",
    "## 전역 변수부\r\n",
    "memory = [] # 노드를 저장할 공간\r\n",
    "head, current, pre = None, None, None\r\n",
    "dataArray = ['다현', '정연', '쯔위', '사나', '지효']\r\n",
    "\r\n",
    "\r\n",
    "## 메인 코드부\r\n",
    "\r\n",
    "node = Node()       # 첫번쨰 노드\r\n",
    "node.data = dataArray[0]\r\n",
    "head = node\r\n",
    "memory.append(node)\r\n",
    "\r\n",
    "for data in dataArray[1:]:  # ['정연', '쯔위', '사나', '지효']\r\n",
    "    pre = node          # pre는 이전 노드링크에 현재 노드 주솟값을 저장하기 위해 필요\r\n",
    "    node = Node()       # 현재 노드 생성\r\n",
    "    node.data = data\r\n",
    "    pre.link = node\r\n",
    "    memory.append(node)\r\n",
    "printNodes(head)\r\n",
    "\r\n",
    "insertNode('다현', '화사')\r\n",
    "printNodes(head)\r\n",
    "insertNode('사나', '솔라')\r\n",
    "printNodes(head)\r\n",
    "insertNode('재남', '문별')\r\n",
    "printNodes(head)"
   ],
   "outputs": [
    {
     "output_type": "stream",
     "name": "stdout",
     "text": [
      "다현 정연 쯔위 사나 지효 화사 다현 정연 쯔위 사나 지효 화사 다현 정연 쯔위 솔라 사나 지효 "
     ]
    },
    {
     "output_type": "error",
     "ename": "AttributeError",
     "evalue": "'NoneType' object has no attribute 'data'",
     "traceback": [
      "\u001b[1;31m---------------------------------------------------------------------------\u001b[0m",
      "\u001b[1;31mAttributeError\u001b[0m                            Traceback (most recent call last)",
      "\u001b[1;32m<ipython-input-31-a068868bc576>\u001b[0m in \u001b[0;36m<module>\u001b[1;34m\u001b[0m\n\u001b[0;32m     66\u001b[0m \u001b[0minsertNode\u001b[0m\u001b[1;33m(\u001b[0m\u001b[1;34m'사나'\u001b[0m\u001b[1;33m,\u001b[0m \u001b[1;34m'솔라'\u001b[0m\u001b[1;33m)\u001b[0m\u001b[1;33m\u001b[0m\u001b[1;33m\u001b[0m\u001b[0m\n\u001b[0;32m     67\u001b[0m \u001b[0mprintNodes\u001b[0m\u001b[1;33m(\u001b[0m\u001b[0mhead\u001b[0m\u001b[1;33m)\u001b[0m\u001b[1;33m\u001b[0m\u001b[1;33m\u001b[0m\u001b[0m\n\u001b[1;32m---> 68\u001b[1;33m \u001b[0minsertNode\u001b[0m\u001b[1;33m(\u001b[0m\u001b[1;34m'재남'\u001b[0m\u001b[1;33m,\u001b[0m \u001b[1;34m'문별'\u001b[0m\u001b[1;33m)\u001b[0m\u001b[1;33m\u001b[0m\u001b[1;33m\u001b[0m\u001b[0m\n\u001b[0m\u001b[0;32m     69\u001b[0m \u001b[0mprintNodes\u001b[0m\u001b[1;33m(\u001b[0m\u001b[0mhead\u001b[0m\u001b[1;33m)\u001b[0m\u001b[1;33m\u001b[0m\u001b[1;33m\u001b[0m\u001b[0m\n",
      "\u001b[1;32m<ipython-input-31-a068868bc576>\u001b[0m in \u001b[0;36minsertNode\u001b[1;34m(findData, insertData)\u001b[0m\n\u001b[0;32m     25\u001b[0m         \u001b[0mpre\u001b[0m \u001b[1;33m=\u001b[0m \u001b[0mcurrent\u001b[0m           \u001b[1;31m# pre는 이전의 노드의 링크 값을 알기 위해 필요 (현재 노드의 주소)\u001b[0m\u001b[1;33m\u001b[0m\u001b[1;33m\u001b[0m\u001b[0m\n\u001b[0;32m     26\u001b[0m         \u001b[0mcurrent\u001b[0m \u001b[1;33m=\u001b[0m \u001b[0mcurrent\u001b[0m\u001b[1;33m.\u001b[0m\u001b[0mlink\u001b[0m\u001b[1;33m\u001b[0m\u001b[1;33m\u001b[0m\u001b[0m\n\u001b[1;32m---> 27\u001b[1;33m         \u001b[1;32mif\u001b[0m \u001b[0mcurrent\u001b[0m\u001b[1;33m.\u001b[0m\u001b[0mdata\u001b[0m \u001b[1;33m==\u001b[0m \u001b[0mfindData\u001b[0m\u001b[1;33m:\u001b[0m\u001b[1;33m\u001b[0m\u001b[1;33m\u001b[0m\u001b[0m\n\u001b[0m\u001b[0;32m     28\u001b[0m             \u001b[0mnode\u001b[0m \u001b[1;33m=\u001b[0m \u001b[0mNode\u001b[0m\u001b[1;33m(\u001b[0m\u001b[1;33m)\u001b[0m\u001b[1;33m\u001b[0m\u001b[1;33m\u001b[0m\u001b[0m\n\u001b[0;32m     29\u001b[0m             \u001b[0mnode\u001b[0m\u001b[1;33m.\u001b[0m\u001b[0mdata\u001b[0m \u001b[1;33m=\u001b[0m \u001b[0minsertData\u001b[0m\u001b[1;33m\u001b[0m\u001b[1;33m\u001b[0m\u001b[0m\n",
      "\u001b[1;31mAttributeError\u001b[0m: 'NoneType' object has no attribute 'data'"
     ]
    }
   ],
   "metadata": {}
  },
  {
   "cell_type": "markdown",
   "source": [
    "## 단순 연결리스트의 삭제"
   ],
   "metadata": {}
  },
  {
   "cell_type": "code",
   "execution_count": 28,
   "source": [
    "## 함수 선언부\r\n",
    "class Node():\r\n",
    "    def __init__(self):\r\n",
    "        self.data = None\r\n",
    "        self.link = None\r\n",
    "\r\n",
    "def printNodes(start):\r\n",
    "    current = start\r\n",
    "    print(current.data, end=' ')\r\n",
    "    while (current.link != None):\r\n",
    "        current = current.link\r\n",
    "        print(current.data, end=' ')\r\n",
    "\r\n",
    "def insetNode(findData, insertData):\r\n",
    "    global memory, head, current, pre\r\n",
    "    if head.data == findData:       # 첫노드 앞에 삽입\r\n",
    "        node = Node()\r\n",
    "        node.data = insertData\r\n",
    "        node.link = head\r\n",
    "        head = node\r\n",
    "        memory.append(node)\r\n",
    "        return\r\n",
    "    current = head\r\n",
    "    while current.link != Node:\r\n",
    "        pre = current           # pre는 이전의 노드의 링크 값을 알기 위해 필요 (현재 노드의 주소)\r\n",
    "        current = current.link\r\n",
    "        if current.data == findData:\r\n",
    "            node = Node()\r\n",
    "            node.data = insertData\r\n",
    "            node.link = current\r\n",
    "            pre.link = node\r\n",
    "            memory.append(node)\r\n",
    "            return\r\n",
    "    node = Node()       # 마지막 노드에 삽입\r\n",
    "    node.data = insertData\r\n",
    "    current.link = node\r\n",
    "    return\r\n",
    "\r\n",
    "def deleteNode(deleteData):\r\n",
    "\r\n",
    "    if head.data == deleteData:\r\n",
    "        current = head\r\n",
    "        head = head.link\r\n",
    "        del(current)\r\n",
    "        return\r\n",
    "    current = head\r\n",
    "    while current.link != None:\r\n",
    "        pre = current\r\n",
    "        current = current.link\r\n",
    "        if current.data == deleteData:\r\n",
    "            pre.link = current.link\r\n",
    "            del(current)\r\n",
    "            return\r\n",
    "\r\n",
    "## 전역 변수부\r\n",
    "memory = [] # 노드를 저장할 공간\r\n",
    "head, current, pre = None, None, None\r\n",
    "dataArray = ['다현', '정연', '쯔위', '사나', '지효']\r\n",
    "\r\n",
    "\r\n",
    "## 메인 코드부\r\n",
    "\r\n",
    "node = Node()       # 첫번쨰 노드\r\n",
    "node.data = dataArray[0]\r\n",
    "head = node\r\n",
    "memory.append(node)\r\n",
    "\r\n",
    "for data in dataArray[1:]:  # ['정연', '쯔위', '사나', '지효']\r\n",
    "    pre = node          # pre는 이전 노드링크에 현재 노드 주솟값을 저장하기 위해 필요\r\n",
    "    node = Node()       # 현재 노드 생성\r\n",
    "    node.data = data\r\n",
    "    pre.link = node\r\n",
    "    memory.append(node)\r\n",
    "printNodes(head)\r\n",
    "\r\n",
    "deleteNode('다현')\r\n",
    "printNode(head)"
   ],
   "outputs": [
    {
     "output_type": "stream",
     "name": "stdout",
     "text": [
      "다현 정연 쯔위 사나 지효 "
     ]
    },
    {
     "output_type": "error",
     "ename": "UnboundLocalError",
     "evalue": "local variable 'head' referenced before assignment",
     "traceback": [
      "\u001b[1;31m---------------------------------------------------------------------------\u001b[0m",
      "\u001b[1;31mUnboundLocalError\u001b[0m                         Traceback (most recent call last)",
      "\u001b[1;32m<ipython-input-28-8ee7cd93d357>\u001b[0m in \u001b[0;36m<module>\u001b[1;34m\u001b[0m\n\u001b[0;32m     73\u001b[0m \u001b[0mprintNodes\u001b[0m\u001b[1;33m(\u001b[0m\u001b[0mhead\u001b[0m\u001b[1;33m)\u001b[0m\u001b[1;33m\u001b[0m\u001b[1;33m\u001b[0m\u001b[0m\n\u001b[0;32m     74\u001b[0m \u001b[1;33m\u001b[0m\u001b[0m\n\u001b[1;32m---> 75\u001b[1;33m \u001b[0mdeleteNode\u001b[0m\u001b[1;33m(\u001b[0m\u001b[1;34m'다현'\u001b[0m\u001b[1;33m)\u001b[0m\u001b[1;33m\u001b[0m\u001b[1;33m\u001b[0m\u001b[0m\n\u001b[0m\u001b[0;32m     76\u001b[0m \u001b[0mprintNode\u001b[0m\u001b[1;33m(\u001b[0m\u001b[0mhead\u001b[0m\u001b[1;33m)\u001b[0m\u001b[1;33m\u001b[0m\u001b[1;33m\u001b[0m\u001b[0m\n",
      "\u001b[1;32m<ipython-input-28-8ee7cd93d357>\u001b[0m in \u001b[0;36mdeleteNode\u001b[1;34m(deleteData)\u001b[0m\n\u001b[0;32m     38\u001b[0m \u001b[1;32mdef\u001b[0m \u001b[0mdeleteNode\u001b[0m\u001b[1;33m(\u001b[0m\u001b[0mdeleteData\u001b[0m\u001b[1;33m)\u001b[0m\u001b[1;33m:\u001b[0m\u001b[1;33m\u001b[0m\u001b[1;33m\u001b[0m\u001b[0m\n\u001b[0;32m     39\u001b[0m \u001b[1;33m\u001b[0m\u001b[0m\n\u001b[1;32m---> 40\u001b[1;33m     \u001b[1;32mif\u001b[0m \u001b[0mhead\u001b[0m\u001b[1;33m.\u001b[0m\u001b[0mdata\u001b[0m \u001b[1;33m==\u001b[0m \u001b[0mdeleteData\u001b[0m\u001b[1;33m:\u001b[0m\u001b[1;33m\u001b[0m\u001b[1;33m\u001b[0m\u001b[0m\n\u001b[0m\u001b[0;32m     41\u001b[0m         \u001b[0mcurrent\u001b[0m \u001b[1;33m=\u001b[0m \u001b[0mhead\u001b[0m\u001b[1;33m\u001b[0m\u001b[1;33m\u001b[0m\u001b[0m\n\u001b[0;32m     42\u001b[0m         \u001b[0mhead\u001b[0m \u001b[1;33m=\u001b[0m \u001b[0mhead\u001b[0m\u001b[1;33m.\u001b[0m\u001b[0mlink\u001b[0m\u001b[1;33m\u001b[0m\u001b[1;33m\u001b[0m\u001b[0m\n",
      "\u001b[1;31mUnboundLocalError\u001b[0m: local variable 'head' referenced before assignment"
     ]
    }
   ],
   "metadata": {}
  },
  {
   "cell_type": "code",
   "execution_count": 34,
   "source": [
    "# 강사님\r\n",
    "## 함수 선언부\r\n",
    "class  Node() :\r\n",
    "    def __init__(self):\r\n",
    "        self.data = None\r\n",
    "        self.link = None\r\n",
    "def printNodes(start) :\r\n",
    "    current = start\r\n",
    "    print(current.data, end=' ')\r\n",
    "    while (current.link != None):\r\n",
    "        current = current.link\r\n",
    "        print(current.data, end=' ')\r\n",
    "    print()\r\n",
    "def insertNode(findData, insertData) :\r\n",
    "    global memory, head, current, pre\r\n",
    "    if head.data == findData : # 첫노드 앞에 삽입\r\n",
    "        node = Node()\r\n",
    "        node.data = insertData\r\n",
    "        node.link = head\r\n",
    "        head = node\r\n",
    "        memory.append(node)\r\n",
    "        return\r\n",
    "    current = head\r\n",
    "    while current.link != None :\r\n",
    "        pre = current\r\n",
    "        current = current.link\r\n",
    "        if  current.data == findData :\r\n",
    "            node = Node()\r\n",
    "            node.data = insertData\r\n",
    "            node.link = current\r\n",
    "            pre.link = node\r\n",
    "            memory.append(node)\r\n",
    "            return\r\n",
    "    node = Node() # 마지막 노드에 삽입\r\n",
    "    node.data = insertData\r\n",
    "    current.link = node\r\n",
    "    memory.append(node)\r\n",
    "    return\r\n",
    "def deleteNode(deleteData) :\r\n",
    "    global memory, head, current, pre\r\n",
    "    if head.data == deleteData :\r\n",
    "        current = head\r\n",
    "        head = head.link\r\n",
    "        del(current)\r\n",
    "        return\r\n",
    "    current  = head\r\n",
    "    while current.link != None :\r\n",
    "        pre = current\r\n",
    "        current = current.link\r\n",
    "        if current.data == deleteData :\r\n",
    "            pre.link = current.link\r\n",
    "            del(current)\r\n",
    "            return\r\n",
    "\r\n",
    "def findNode(findData) :\r\n",
    "    global memory, head, current, pre\r\n",
    "    if head.data == findData:\r\n",
    "        print(head.data)\r\n",
    "    current = head\r\n",
    "    while current.data != findData:\r\n",
    "        if current.data == findData:\r\n",
    "            print([current.data])\r\n",
    "            return\r\n",
    "        else:\r\n",
    "            current = current.link\r\n",
    "\r\n",
    "\r\n",
    "## 전역 변수부\r\n",
    "memory = [] # 노드를 저장할 공간\r\n",
    "head, current, pre = None, None, None\r\n",
    "dataArray = ['다현', '정연', '쯔위', '사나', '지효']\r\n",
    "## 메인 코드부\r\n",
    "node = Node()   # 첫번째 노드\r\n",
    "node.data = dataArray[0]\r\n",
    "head = node\r\n",
    "memory.append(node)\r\n",
    "for data in dataArray[1:] : # ['정연', '쯔위', '사나', '지효']\r\n",
    "    pre = node\r\n",
    "    node = Node()\r\n",
    "    node.data = data\r\n",
    "    pre.link = node\r\n",
    "    memory.append(node)\r\n",
    "printNodes(head)\r\n",
    "\r\n",
    "# insertNode('다현', '화사')\r\n",
    "# printNodes(head)\r\n",
    "# insertNode('사나', '솔라')\r\n",
    "# printNodes(head)\r\n",
    "# insertNode('재남', '문별')\r\n",
    "# printNodes(head)\r\n",
    "\r\n",
    "# deleteNode('다현')\r\n",
    "# printNodes(head)\r\n",
    "# deleteNode('쯔위')\r\n",
    "# printNodes(head)\r\n",
    "# deleteNode('재남')\r\n",
    "# printNodes(head)\r\n",
    "\r\n",
    "findNode('정연')"
   ],
   "outputs": [
    {
     "output_type": "stream",
     "name": "stdout",
     "text": [
      "다현 정연 쯔위 사나 지효 \n"
     ]
    }
   ],
   "metadata": {}
  },
  {
   "cell_type": "markdown",
   "source": [
    "# 스택"
   ],
   "metadata": {}
  },
  {
   "cell_type": "code",
   "execution_count": 47,
   "source": [
    "# 추가\r\n",
    "stack = [None, None, None, None, None]\r\n",
    "top = -1\r\n",
    "\r\n",
    "top += 1\r\n",
    "stack[top] = '커피'\r\n",
    "\r\n",
    "top += 1\r\n",
    "stack[top] = '녹차'\r\n",
    "\r\n",
    "top += 1\r\n",
    "stack[top] = '꿀물'\r\n",
    "\r\n",
    "print(stack)\r\n",
    "\r\n",
    "# 추출\r\n",
    "data = stack[top]\r\n",
    "stack[top] = None\r\n",
    "top -= 1\r\n",
    "print('pop -->', data)\r\n",
    "print(stack)\r\n",
    "\r\n",
    "data = stack[top]\r\n",
    "stack[top] = None\r\n",
    "top -= 1\r\n",
    "print('pop -->', data)\r\n",
    "print(stack)\r\n",
    "\r\n",
    "data = stack[top]\r\n",
    "stack[top] = None\r\n",
    "top -= 1\r\n",
    "print('pop -->', data)\r\n",
    "print(stack)"
   ],
   "outputs": [
    {
     "output_type": "stream",
     "name": "stdout",
     "text": [
      "['커피', '녹차', '꿀물', None, None]\n",
      "pop --> 꿀물\n",
      "['커피', '녹차', None, None, None]\n",
      "pop --> 녹차\n",
      "['커피', None, None, None, None]\n",
      "pop --> 커피\n",
      "[None, None, None, None, None]\n"
     ]
    }
   ],
   "metadata": {}
  },
  {
   "cell_type": "code",
   "execution_count": 57,
   "source": [
    "## 함수 선언부\r\n",
    "def isStackFull():\r\n",
    "    global SIZE, stack, top\r\n",
    "    if (top == SIZE-1):\r\n",
    "        return True\r\n",
    "    else:\r\n",
    "        return False\r\n",
    "\r\n",
    "def push(data):\r\n",
    "    global SIZE, stack, top\r\n",
    "    # 스택이 꽉찼으면, 꽉찼다는 메시지 출력하고 종료\r\n",
    "    # 아니라면, 스택에 데이터 넣기.\r\n",
    "    if (isStackFull()):\r\n",
    "        print('스택이 꽉찼음')\r\n",
    "        return\r\n",
    "    top += 1            # else를 생략하고 if문 바깥에 배치 if문 실행되면 return되므로\r\n",
    "    stack[top] = data\r\n",
    "\r\n",
    "def isStackEmpty():\r\n",
    "    global SIZE, stack, top\r\n",
    "    if (top <= -1):         # stack 메모리 자체를 보는 것이 아닌 top에 의해 확인\r\n",
    "        return\r\n",
    "    else:\r\n",
    "        return False\r\n",
    "\r\n",
    "def pop():\r\n",
    "    global SIZE, stack, top\r\n",
    "    # 스택이 비었는지 확인, 메시지 출력 후 끝\r\n",
    "    # 안비었으면 데이터를 추출해서 반환\r\n",
    "    if (isStackEmpty()): \r\n",
    "        print('텅 빔')\r\n",
    "        return None\r\n",
    "    data = stack[top]\r\n",
    "    stack[top] = None\r\n",
    "    top -= 1\r\n",
    "    return data\r\n",
    "\r\n",
    "\r\n",
    "## 전역 변수부\r\n",
    "SIZE = 5\r\n",
    "stack = [None for _ in range(SIZE)]\r\n",
    "top = -1\r\n",
    "\r\n",
    "\r\n",
    "\r\n",
    "\r\n",
    "## 메인 코드부\r\n",
    "# stack = ['커피','녹차','꿀물','콜라','환타']\r\n",
    "# top = 4\r\n",
    "\r\n",
    "print('스택 꽉?', isStackFull())\r\n",
    "\r\n",
    "push('커피1')\r\n",
    "push('커피2')\r\n",
    "print(stack)\r\n",
    "\r\n",
    "data = pop()\r\n",
    "print(data)\r\n",
    "data = pop()\r\n",
    "print(data)\r\n",
    "data = pop()\r\n",
    "print(data)\r\n",
    "print(stack)"
   ],
   "outputs": [
    {
     "output_type": "stream",
     "name": "stdout",
     "text": [
      "스택 꽉? False\n",
      "['커피1', '커피2', None, None, None]\n",
      "커피2\n",
      "커피1\n",
      "None\n",
      "[None, None, None, None, None]\n"
     ]
    }
   ],
   "metadata": {}
  }
 ],
 "metadata": {
  "orig_nbformat": 4,
  "language_info": {
   "name": "python",
   "version": "3.8.10",
   "mimetype": "text/x-python",
   "codemirror_mode": {
    "name": "ipython",
    "version": 3
   },
   "pygments_lexer": "ipython3",
   "nbconvert_exporter": "python",
   "file_extension": ".py"
  },
  "kernelspec": {
   "name": "python3",
   "display_name": "Python 3.8.10 64-bit ('base': conda)"
  },
  "interpreter": {
   "hash": "3afaf00aff83f2e8eb9647e300ff648c4cd120434f7e4c9b48fc973ba4a47465"
  }
 },
 "nbformat": 4,
 "nbformat_minor": 2
}